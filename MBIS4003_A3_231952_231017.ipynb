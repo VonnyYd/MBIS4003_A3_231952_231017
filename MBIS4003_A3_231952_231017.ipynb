{
  "cells": [
    {
      "cell_type": "code",
      "execution_count": 1,
      "metadata": {
        "id": "lrd2j40UOuvL"
      },
      "outputs": [],
      "source": [
        "# Import Library\n",
        "import numpy as np                    # for computing operations of numeric data types\n",
        "import matplotlib.pyplot as plt       # to create graphic visualizations\n",
        "import pandas as pd                   # for data manipulation and analysis\n",
        "import seaborn as sns                 # for statistical visualization\n",
        "import random                         # to generate random float numbers\n",
        "import statistics                     # as an analytical tool\n",
        "\n",
        "from collections import Counter       # container datatypes\n",
        "import string\n",
        "\n",
        "import warnings\n",
        "warnings.filterwarnings(\"ignore\")"
      ]
    },
    {
      "cell_type": "markdown",
      "metadata": {
        "id": "gBY679P-PpNl"
      },
      "source": [
        "# **Calculator (1 Program)**\n",
        "Create a function that randomly generates and returns a tuple of two or more positive integers. Use that function’s result in your script to prompt the user with a math question (such as: “How much is 6 times 7?”). Varying the computer’s responses can help hold the student’s attention. Prepare various comments which are displayed for each answer. Possible responses to a correct answer should include 'Very good!', 'Nice work!' and 'Keep up the good work!' Possible responses to an incorrect answer should include 'No. Please try again.', 'Wrong. Try once more.' and 'No. Keep trying.' Allow the user to pick a type of arithmetic problem to study e.g., 1 means addition problems only, 2 means subtraction problems only, 3 means multiplication problems only, 4 means 2 division problems only avoid dividing by 0) and 5 means a random mixture of all these types. Collect data regarding number of exercises correct/incorrect and total exercises per topic.\n",
        "Allow the program to present descriptive statistical information in words/numbers and charts about each student (per user) and all students (all users) using the program."
      ]
    },
    {
      "cell_type": "code",
      "execution_count": 2,
      "metadata": {
        "id": "2sElu1EgPnmY"
      },
      "outputs": [],
      "source": [
        "def generate_question(operation):\n",
        "    # Generates math questions according to the selected operation\n",
        "    num1 = random.randint(1, 10)\n",
        "    num2 = random.randint(1, 10)\n",
        "    if operation == 'addition':\n",
        "        question = f\"How much is {num1} plus {num2} ? \"\n",
        "        answer = num1 + num2\n",
        "    elif operation == 'subtraction':\n",
        "        question = f\"How much is {num1} minus {num2} ? \"\n",
        "        answer = num1 - num2\n",
        "    elif operation == 'multiplication':\n",
        "        question = f\"How much is {num1} times {num2} ? \"\n",
        "        answer = num1 * num2\n",
        "    elif operation == 'division':\n",
        "        question = f\"How much is {num1} divided by {num2} ? (Round to nearest whole number)\"\n",
        "        answer = num1 // num2\n",
        "    return question, answer\n",
        "\n",
        "def check_answer(user_answer, correct_answer):\n",
        "    # Checking user answers and providing feedback\n",
        "    if user_answer == correct_answer:\n",
        "        feedback = random.choice(['Very good!', 'Nice work!', 'Keep up the good work!'])\n",
        "        return True, feedback\n",
        "    else:\n",
        "        feedback = random.choice(['No. Please try again.', 'Wrong. Try once more.', 'No. Keep trying.'])\n",
        "        return False, feedback"
      ]
    },
    {
      "cell_type": "code",
      "execution_count": 3,
      "metadata": {
        "id": "HECky7rtTCnd",
        "colab": {
          "base_uri": "https://localhost:8080/"
        },
        "outputId": "ee443581-69ff-4590-b285-4655494a7ab6"
      },
      "outputs": [
        {
          "output_type": "stream",
          "name": "stdout",
          "text": [
            "\n",
            "SELECT THE TYPE OF ARITHMETIC PROBLEM TO STUDY\n",
            "1. Addition\n",
            "2. Subtraction\n",
            "3. Multiplication\n",
            "4. Division\n",
            "5. Random mixture\n",
            "Enter the number of your choice : 5\n",
            "\n",
            "Question :  How much is 5 minus 1 ? \n",
            "Your answer : 4\n",
            "Feedback: Nice work!\n",
            "\n",
            "Do you want to solve another problem ? (yes/no) : yes\n",
            "\n",
            "SELECT THE TYPE OF ARITHMETIC PROBLEM TO STUDY\n",
            "1. Addition\n",
            "2. Subtraction\n",
            "3. Multiplication\n",
            "4. Division\n",
            "5. Random mixture\n",
            "Enter the number of your choice : 5\n",
            "\n",
            "Question :  How much is 10 minus 6 ? \n",
            "Your answer : 5\n",
            "Feedback: No. Keep trying.\n",
            "\n",
            "Do you want to solve another problem ? (yes/no) : yes\n",
            "\n",
            "SELECT THE TYPE OF ARITHMETIC PROBLEM TO STUDY\n",
            "1. Addition\n",
            "2. Subtraction\n",
            "3. Multiplication\n",
            "4. Division\n",
            "5. Random mixture\n",
            "Enter the number of your choice : 2\n",
            "\n",
            "Question :  How much is 6 minus 7 ? \n",
            "Your answer : -1\n",
            "Feedback: Nice work!\n",
            "\n",
            "Do you want to solve another problem ? (yes/no) : no\n",
            "\n",
            "SUMMARY OF YOUR PERFORMANCE\n",
            "Total Exercises : 3\n",
            "Correct Exercises : 2\n",
            "Incorrect Exercises : 1\n"
          ]
        }
      ],
      "source": [
        "def get_problem_type():\n",
        "    print(\"\\nSELECT THE TYPE OF ARITHMETIC PROBLEM TO STUDY\")\n",
        "    print(\"1. Addition\")\n",
        "    print(\"2. Subtraction\")\n",
        "    print(\"3. Multiplication\")\n",
        "    print(\"4. Division\")\n",
        "    print(\"5. Random mixture\")\n",
        "    return int(input(\"Enter the number of your choice : \"))\n",
        "\n",
        "def main():\n",
        "    total_exercises = 0\n",
        "    correct_exercises = 0\n",
        "\n",
        "    while True:\n",
        "        problem_type = get_problem_type()\n",
        "        if problem_type == 5:\n",
        "            problem_type = random.randint(1, 4)\n",
        "\n",
        "        operations = ['addition', 'subtraction', 'multiplication', 'division']\n",
        "        selected_operation = operations[problem_type - 1]\n",
        "\n",
        "        question, correct_answer = generate_question(selected_operation)\n",
        "        print(\"\\nQuestion : \", question)\n",
        "        user_answer = int(input(\"Your answer : \"))\n",
        "        total_exercises += 1\n",
        "\n",
        "        is_correct, feedback = check_answer(user_answer, correct_answer)\n",
        "        if is_correct:\n",
        "            correct_exercises += 1\n",
        "\n",
        "        print(\"Feedback:\", feedback)\n",
        "\n",
        "        cont = input(\"\\nDo you want to solve another problem ? (yes/no) : \").lower()\n",
        "        if cont != 'yes':\n",
        "            break\n",
        "\n",
        "    print(\"\\nSUMMARY OF YOUR PERFORMANCE\")\n",
        "    print(f\"Total Exercises : {total_exercises}\")\n",
        "    print(f\"Correct Exercises : {correct_exercises}\")\n",
        "    print(f\"Incorrect Exercises : {total_exercises - correct_exercises}\")\n",
        "\n",
        "if __name__ == \"__main__\":\n",
        "    main()"
      ]
    },
    {
      "cell_type": "markdown",
      "source": [
        "# **String (2 program)**\n",
        "Allow student to insert one arbitrary string. Save the letters of the string into a list. Design and perform the following tasks and display your results:\n",
        "-\tSummarizing letters in a string. Write a function that receives a string and returns a list of tuples containing the unique letters and their frequencies in the string. Test your function and display each letter with its frequency. Your function should ignore case sensitivity (that is, 'a' and 'A' are the same) and ignore spaces and punctuation. When done, write a statement that says whether the string has all the letters of the alphabet.\n",
        "-\tPresent descriptive statistics and graphs about the string data.\n",
        "-\tSorting letters in different order and removing duplicates\n",
        "-\tWrite a code that produces anagrams of a given string.\n",
        "\n",
        "An anagram of a string is another string formed by rearranging the letters in the first."
      ],
      "metadata": {
        "id": "1vtbhdJh4OnC"
      }
    },
    {
      "cell_type": "code",
      "source": [
        "# Formula to Calculate the frequency of each unique letter in a given string\n",
        "def summarize_letters(input_string):\n",
        "    # Converts the string to lowercase, removing punctuation and spaces\n",
        "    cleaned_string = ''.join(char.lower() for char in input_string if char.isalpha())\n",
        "    # Count the frequency of each letter\n",
        "    letter_counts = {}\n",
        "    for char in cleaned_string:\n",
        "        if char in letter_counts:\n",
        "            letter_counts[char] += 1\n",
        "        else:\n",
        "            letter_counts[char] = 1\n",
        "    # Converts the result to a list of tuples\n",
        "    summary = list(letter_counts.items())\n",
        "    return summary\n",
        "\n",
        "# Formula to Checks if the string contains all the letters in the alphabet\n",
        "def contains_all_alphabets(input_string):\n",
        "    # Set of all letters in the alphabet\n",
        "    all_alphabets = set('abcdefghijklmnopqrstuvwxyz')\n",
        "    # The set of letters in the input string\n",
        "    input_characters = set(char.lower() for char in input_string if char.isalpha())\n",
        "    # Checks whether the input_characters set contains all the letters in all_alphabets\n",
        "    return all_alphabets.issubset(input_characters)"
      ],
      "metadata": {
        "id": "rzDaze1yLTDt"
      },
      "execution_count": 4,
      "outputs": []
    },
    {
      "cell_type": "code",
      "source": [
        "# Formula to Displays the frequency of each letter to the screen.\n",
        "def display_letter_frequencies(summary):\n",
        "    print(\"\\nLetter Frequencies : \")\n",
        "    for letter, frequency in summary:\n",
        "        print(f\"{letter}: {frequency}\")\n",
        "\n",
        "# Formula to Makes graphic\n",
        "def plot_letter_frequencies(summary):\n",
        "    letters, frequencies = zip(*summary)\n",
        "    plt.figure(figsize=(10, 6))\n",
        "    plt.bar(letters, frequencies)\n",
        "    plt.xlabel('Letters')\n",
        "    plt.ylabel('Frequencies')\n",
        "    plt.title('Letter Frequencies')\n",
        "    plt.show()\n",
        "\n",
        "# Formula for Descriptive Statistics\n",
        "def display_statistics(frequencies):\n",
        "    mean = statistics.mean(frequencies)\n",
        "    median = statistics.median(frequencies)\n",
        "    try:\n",
        "        mode = statistics.mode(frequencies)\n",
        "    except statistics.StatisticsError:\n",
        "        mode = \"No unique mode\"\n",
        "\n",
        "    print(\"\\nStatistical Summary\")\n",
        "    print(f\"Mean frequency : {mean:.2f}\")\n",
        "    print(f\"Median frequency : {median:.2f}\")\n",
        "    print(f\"Mode frequency : {mode}\" if isinstance(mode, str) else f\"Mode frequency: {mode:.2f}\")"
      ],
      "metadata": {
        "id": "BLtC_9uBLUly"
      },
      "execution_count": 5,
      "outputs": []
    },
    {
      "cell_type": "code",
      "source": [
        "# Formula to Sort letters in a string either alphabetically or by frequency\n",
        "def sort_letters(input_string):\n",
        "    # Eliminate duplicates and sort letters alphabetically\n",
        "    cleaned_string = ''.join(sorted(set(input_string.lower())))\n",
        "    # Sort letters by frequency\n",
        "    letter_counts = {}\n",
        "    for char in input_string.lower():\n",
        "        if char.isalpha():\n",
        "            if char in letter_counts:\n",
        "                letter_counts[char] += 1\n",
        "            else:\n",
        "                letter_counts[char] = 1\n",
        "    sorted_by_freq = ''.join(sorted(set(input_string.lower()), key = lambda x: letter_counts.get(x, 0), reverse = True))\n",
        "\n",
        "    return cleaned_string, sorted_by_freq"
      ],
      "metadata": {
        "id": "1XaFyZjRGZFH"
      },
      "execution_count": 6,
      "outputs": []
    },
    {
      "cell_type": "code",
      "source": [
        "# Formula for Generating anagrams\n",
        "def generate_anagrams(input_string):\n",
        "    cleaned_string = ''.join(char.lower() for char in input_string if char.isalpha())\n",
        "    # Recursive function to generate anagrams\n",
        "    def anagrams_recursive(s):\n",
        "        if len(s) <= 1:\n",
        "            return {s}\n",
        "        else:\n",
        "            anagrams = set()\n",
        "            for i, char in enumerate(s):\n",
        "                for perm in anagrams_recursive(s[:i] + s[i+1:]):\n",
        "                    anagrams.add(char + perm)\n",
        "            return anagrams\n",
        "\n",
        "    anagrams = anagrams_recursive(cleaned_string)\n",
        "    return anagrams"
      ],
      "metadata": {
        "id": "xfbMjrlAGZHc"
      },
      "execution_count": 7,
      "outputs": []
    },
    {
      "cell_type": "code",
      "source": [
        "# Example of calling a function and printing the result\n",
        "input_string = input(\"Enter the string : \")\n",
        "summary = summarize_letters(input_string)\n",
        "print(\"\\nSummary of letters and their frequencies : \", summary)\n",
        "\n",
        "if contains_all_alphabets(input_string):\n",
        "    print(\"The string contains all letters of the alphabet\")\n",
        "else:\n",
        "    print(\"The string does not contain all letters of the alphabet\")\n",
        "\n",
        "display_letter_frequencies(summary)\n",
        "plot_letter_frequencies(summary)\n",
        "\n",
        "# Extract frequencies for statistical analysis\n",
        "_, frequencies = zip(*summary)\n",
        "display_statistics(frequencies)\n",
        "\n",
        "sorted_abjad, sorted_freq = sort_letters(input_string)\n",
        "print(\"\\nLetters sorted alphabetically : \", sorted_abjad)\n",
        "print(\"Letters sorted by frequency : \", sorted_freq)\n",
        "\n",
        "anagrams = generate_anagrams(input_string)\n",
        "print(f\"Anagrams of '{input_string}' : \", anagrams)"
      ],
      "metadata": {
        "id": "KDM81hl0GZK1",
        "colab": {
          "base_uri": "https://localhost:8080/",
          "height": 1000
        },
        "outputId": "9dd84269-f670-4950-ec52-2d8d3e86fe0c"
      },
      "execution_count": 8,
      "outputs": [
        {
          "output_type": "stream",
          "name": "stdout",
          "text": [
            "Enter the string : Hello World !!! 1234\n",
            "\n",
            "Summary of letters and their frequencies :  [('h', 1), ('e', 1), ('l', 3), ('o', 2), ('w', 1), ('r', 1), ('d', 1)]\n",
            "The string does not contain all letters of the alphabet\n",
            "\n",
            "Letter Frequencies : \n",
            "h: 1\n",
            "e: 1\n",
            "l: 3\n",
            "o: 2\n",
            "w: 1\n",
            "r: 1\n",
            "d: 1\n"
          ]
        },
        {
          "output_type": "display_data",
          "data": {
            "text/plain": [
              "<Figure size 1000x600 with 1 Axes>"
            ],
            "image/png": "[encoded data removed]"
          },
          "metadata": {}
        },
        {
          "output_type": "stream",
          "name": "stdout",
          "text": [
            "\n",
            "Statistical Summary\n",
            "Mean frequency : 1.43\n",
            "Median frequency : 1.00\n",
            "Mode frequency: 1.00\n",
            "\n",
            "Letters sorted alphabetically :   !1234dehlorw\n",
            "Letters sorted by frequency :  lohwrde3!1 42\n"
          ]
        },
        {
          "output_type": "stream",
          "name": "stderr",
          "text": [
            "IOPub data rate exceeded.\n",
            "The notebook server will temporarily stop sending output\n",
            "to the client in order to avoid crashing it.\n",
            "To change this limit, set the config variable\n",
            "`--NotebookApp.iopub_data_rate_limit`.\n",
            "\n",
            "Current values:\n",
            "NotebookApp.iopub_data_rate_limit=1000000.0 (bytes/sec)\n",
            "NotebookApp.rate_limit_window=3.0 (secs)\n",
            "\n"
          ]
        }
      ]
    },
    {
      "cell_type": "markdown",
      "source": [
        "# **Survey (3 program)**\n",
        "-\tAsk your student to rate on a scale of 1 to 5 the quality of 20 products in a store, with 1 being “awful” and 5 being “excellent”. Place the 20 responses in a list. 1, 2, 5, 4, 3, 5, 2, 1, 3, 3, 1, 4, 3, 3, 3, 2, 3, 3, 2, 5.\n",
        "-\tDetermine and display the frequency of each rating. Use the built-in functions, statistics module functions and NumPy functions to display the following response statistics: minimum, maximum, range, mean, median, mode, variance, and standard deviation.\n",
        "-\tDisplay a bar chart showing the response frequencies and their percentages of the total responses."
      ],
      "metadata": {
        "id": "5Vyvm2Ke8TSx"
      }
    },
    {
      "cell_type": "code",
      "source": [
        "# Users does the input\n",
        "responses = []\n",
        "print(\"Please Enter Ratings (1-5) for 20 Products : \")\n",
        "\n",
        "while len(responses) < 20:\n",
        "    try:\n",
        "        rating = int(input(f\"Product rates {len(responses) + 1}: \"))\n",
        "        if 1 <= rating <= 5:23\n",
        "            responses.append(rating)\n",
        "        else:\n",
        "            print(\"Please enter a number between 1 and 5 only.\")\n",
        "    except ValueError:\n",
        "        print(\"You must enter a valid number.\")\n",
        "\n",
        "# Determine the frequency of each assessment\n",
        "frequencies = {i: responses.count(i) for i in range(1, 6)}"
      ],
      "metadata": {
        "colab": {
          "base_uri": "https://localhost:8080/"
        },
        "id": "NbgG2O3Lgg0v",
        "outputId": "9f6c4e49-249a-4e92-a7f9-3e4e799dd07a"
      },
      "execution_count": 12,
      "outputs": [
        {
          "name": "stdout",
          "output_type": "stream",
          "text": [
            "Please Enter Ratings (1-5) for 20 Products : \n",
            "Product rates 1: 1\n",
            "Product rates 2: \n",
            "You must enter a valid number.\n",
            "Product rates 2: 2\n",
            "Product rates 3: 5\n",
            "Product rates 4: 4\n",
            "Product rates 5: 3\n",
            "Product rates 6: 5\n",
            "Product rates 7: 2\n",
            "Product rates 8: 1\n",
            "Product rates 9: 3\n",
            "Product rates 10: 3\n",
            "Product rates 11: 1\n",
            "Product rates 12: 4\n",
            "Product rates 13: 3\n",
            "Product rates 14: 3\n",
            "Product rates 15: 3\n",
            "Product rates 16: 2\n",
            "Product rates 17: 3\n",
            "Product rates 18: 3\n",
            "Product rates 19: 2\n",
            "Product rates 20: 5\n"
          ]
        }
      ]
    },
    {
      "cell_type": "code",
      "source": [
        "# Statistical Calculation Formula\n",
        "minimum = min(responses)\n",
        "maximum = max(responses)\n",
        "range_value = maximum - minimum\n",
        "mean = statistics.mean(responses)\n",
        "median = statistics.median(responses)\n",
        "mode = statistics.mode(responses)\n",
        "variance = statistics.variance(responses)\n",
        "std_dev = statistics.stdev(responses)\n",
        "\n",
        "# Show the Results\n",
        "print(\"FREQUENCY OF EACH RATING\")\n",
        "for rating, freq in frequencies.items():\n",
        "    print(f\"Rating {rating}: {freq}\")\n",
        "\n",
        "print(\"\\nSTATISTICAL SUMMARY\")\n",
        "print(f\"Minimum : {minimum}\")\n",
        "print(f\"Maximum : {maximum}\")\n",
        "print(f\"Range : {range_value}\")\n",
        "print(f\"Mean : {mean:.2f}\")\n",
        "print(f\"Median : {median:.2f}\")\n",
        "print(f\"Mode : {mode}\")\n",
        "print(f\"Variance : {variance:.2f}\")\n",
        "print(f\"Standard Deviation : {std_dev:.2f}\")"
      ],
      "metadata": {
        "colab": {
          "base_uri": "https://localhost:8080/"
        },
        "id": "qTWra-G5fnto",
        "outputId": "eb4f52f8-5034-4994-dabd-263b6f7410b2"
      },
      "execution_count": 13,
      "outputs": [
        {
          "output_type": "stream",
          "name": "stdout",
          "text": [
            "FREQUENCY OF EACH RATING\n",
            "Rating 1: 3\n",
            "Rating 2: 4\n",
            "Rating 3: 8\n",
            "Rating 4: 2\n",
            "Rating 5: 3\n",
            "\n",
            "STATISTICAL SUMMARY\n",
            "Minimum : 1\n",
            "Maximum : 5\n",
            "Range : 4\n",
            "Mean : 2.90\n",
            "Median : 3.00\n",
            "Mode : 3\n",
            "Variance : 1.57\n",
            "Standard Deviation : 1.25\n"
          ]
        }
      ]
    },
    {
      "cell_type": "code",
      "source": [
        "# Determine the percentage of each assessment\n",
        "total_responses = len(responses)\n",
        "percentages = {rating: (freq / total_responses) * 100 for rating, freq in frequencies.items()}\n",
        "\n",
        "# Displays a frequency bar graph\n",
        "plt.figure(figsize = (10, 6))\n",
        "plt.bar(frequencies.keys(), frequencies.values(), color = 'blue', alpha = 0.7)\n",
        "plt.xlabel('RATINGS')\n",
        "plt.ylabel('FREQUENCY')\n",
        "plt.title('FREQUENCY OF PRODUCT RATINGS')\n",
        "plt.show()\n",
        "\n",
        "# Displays a percentage bar graph\n",
        "plt.figure(figsize=(10, 6))\n",
        "plt.bar(percentages.keys(), percentages.values(), color = 'green', alpha = 0.7)\n",
        "plt.xlabel('RATINGS')\n",
        "plt.ylabel('PERCENTAGE (%)')\n",
        "plt.title('PERCENTAGE OF PRODUCT RATINGS')\n",
        "plt.show()"
      ],
      "metadata": {
        "colab": {
          "base_uri": "https://localhost:8080/",
          "height": 1000
        },
        "id": "kcAtyHtqfnv7",
        "outputId": "3b8e9acb-6dcd-4956-b363-5211a938a956"
      },
      "execution_count": 14,
      "outputs": [
        {
          "output_type": "display_data",
          "data": {
            "text/plain": [
              "<Figure size 1000x600 with 1 Axes>"
            ],
            "image/png": "[encoded data removed]"
          },
          "metadata": {}
        },
        {
          "output_type": "display_data",
          "data": {
            "text/plain": [
              "<Figure size 1000x600 with 1 Axes>"
            ],
            "image/png": "[encoded data removed]"
          },
          "metadata": {}
        }
      ]
    },
    {
      "cell_type": "markdown",
      "source": [
        "# **Game (2 program + arcade manager or single mix game)**\n",
        "-\tEach member of the group to develop a game based on words or numbers and including descriptive statistics. Combine the best of the group member solutions and create an arcade or single own mix of other games amazing and fun game, which offer other student to either rest or develop their brain skills through play. You can use a List (or another data structure we have covered) to be the environment for your world."
      ],
      "metadata": {
        "id": "ZH9C9oZy9Y26"
      }
    },
    {
      "cell_type": "markdown",
      "source": [
        "## **Game 1: Guess the Number**\n",
        "Guess the Numbers is a game that puts your sharp intuition and luck to the test by having you guess numbers that the computer randomly chooses. This is a simple game in which players are asked to guess numbers randomly chosen by the computer within a specific range. This game was created using the concept of generating random numbers and accepting user input. Using a descriptive statistics approach, the programme can track each player's number of correct and incorrect guesses in order to provide success statistics."
      ],
      "metadata": {
        "id": "L4F58sg6BUac"
      }
    },
    {
      "cell_type": "code",
      "execution_count": 15,
      "metadata": {
        "id": "KewPV5KQTCv4",
        "colab": {
          "base_uri": "https://localhost:8080/"
        },
        "outputId": "56da5341-bb26-41aa-c007-c5bea77732fd"
      },
      "outputs": [
        {
          "output_type": "stream",
          "name": "stdout",
          "text": [
            "A simple game in which the player must guess a randomly generated number.\n",
            "Welcome to Guess the Number!\n",
            "Guess a number between 1 and 100 : 50\n",
            "TOO LOW !!! Try again ...\n",
            "Guess a number between 1 and 100 : 75\n",
            "TOO HIGH !!! Try again ...\n",
            "Guess a number between 1 and 100 : 60\n",
            "TOO HIGH !!! Try again ...\n",
            "Guess a number between 1 and 100 : 55\n",
            "TOO HIGH !!! Try again ...\n",
            "Guess a number between 1 and 100 : 52\n",
            "TOO HIGH !!! Try again ...\n",
            "Guess a number between 1 and 100 : 51\n",
            "CONGRATULATIONS !!! You guessed the number in 6 attempts.\n"
          ]
        }
      ],
      "source": [
        "print(\"A simple game in which the player must guess a randomly generated number.\")\n",
        "\n",
        "def guess_the_number():\n",
        "    print(\"Welcome to Guess the Number!\")\n",
        "    number = random.randint(1, 100)\n",
        "    attempts = 0\n",
        "    while True:\n",
        "        guess = int(input(\"Guess a number between 1 and 100 : \"))\n",
        "        attempts += 1\n",
        "        if guess < number:\n",
        "            print(\"TOO LOW !!! Try again ...\")\n",
        "        elif guess > number:\n",
        "            print(\"TOO HIGH !!! Try again ...\")\n",
        "        else:\n",
        "            print(f\"CONGRATULATIONS !!! You guessed the number in {attempts} attempts.\")\n",
        "            break\n",
        "\n",
        "# Call the game function\n",
        "guess_the_number()"
      ]
    },
    {
      "cell_type": "markdown",
      "source": [
        "## **Game 2: Rock, Paper, Scissors**\n",
        "Rock, Paper, Scissors is a classic game that provides the simple pleasure of making decisions and defeating your opponent. The player will choose one of three options: rock, paper, or scissors, and his opponent will do the same. This programme was created with simple logic to determine the winner based on the choices made by both players. Using a descriptive statistical approach, the programme can determine the number of wins, losses, and draws for each player."
      ],
      "metadata": {
        "id": "UoxyDiVxBrYn"
      }
    },
    {
      "cell_type": "code",
      "source": [
        "def rock_paper_scissors():\n",
        "    print(\"Welcome to Rock, Paper, Scissors!\")\n",
        "    choices = ['rock', 'paper', 'scissors']\n",
        "    user_choice = input(\"Enter your choice (rock, paper, or scissors) : \").lower()\n",
        "    computer_choice = random.choice(choices)\n",
        "    print(f\"The computer chose : {computer_choice}\")\n",
        "    if user_choice == computer_choice:\n",
        "        print(\"It's a tie!\")\n",
        "    elif (user_choice == 'rock' and computer_choice == 'scissors') or \\\n",
        "         (user_choice == 'paper' and computer_choice == 'rock') or \\\n",
        "         (user_choice == 'scissors' and computer_choice == 'paper'):\n",
        "        print(\"CONGRATULATIONS !!! YOU WIN !!! :)\")\n",
        "    else:\n",
        "        print(\"Sorry! You lose! :(\")\n",
        "\n",
        "# Call the game function\n",
        "rock_paper_scissors()"
      ],
      "metadata": {
        "colab": {
          "base_uri": "https://localhost:8080/"
        },
        "id": "tAbNkuxWBT4j",
        "outputId": "6071f3e4-b6d5-4a19-eaa9-daf5008366e0"
      },
      "execution_count": 16,
      "outputs": [
        {
          "output_type": "stream",
          "name": "stdout",
          "text": [
            "Welcome to Rock, Paper, Scissors!\n",
            "Enter your choice (rock, paper, or scissors) : paper\n",
            "The computer chose : paper\n",
            "It's a tie!\n"
          ]
        }
      ]
    }
  ],
  "metadata": {
    "colab": {
      "provenance": []
    },
    "kernelspec": {
      "display_name": "Python 3",
      "name": "python3"
    },
    "language_info": {
      "name": "python"
    }
  },
  "nbformat": 4,
  "nbformat_minor": 0
}